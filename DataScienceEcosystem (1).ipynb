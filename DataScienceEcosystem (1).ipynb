{
  "metadata": {
    "kernelspec": {
      "name": "python",
      "display_name": "Python (Pyodide)",
      "language": "python"
    },
    "language_info": {
      "codemirror_mode": {
        "name": "python",
        "version": 3
      },
      "file_extension": ".py",
      "mimetype": "text/x-python",
      "name": "python",
      "nbconvert_exporter": "python",
      "pygments_lexer": "ipython3",
      "version": "3.8"
    }
  },
  "nbformat_minor": 4,
  "nbformat": 4,
  "cells": [
    {
      "cell_type": "markdown",
      "source": "# Data Science Tools and Ecosystem",
      "metadata": {}
    },
    {
      "cell_type": "markdown",
      "source": "### Introduction\nIn this notebook, Data Science Tools and Ecosysytem are summarized",
      "metadata": {}
    },
    {
      "cell_type": "markdown",
      "source": "### Data Science Languages\nSome of the popular languages that Data Scientists use are:\n\n-Python\n-R\n-SQL\n-Julia\n-Java\n-Scala\n-MATLAB",
      "metadata": {}
    },
    {
      "cell_type": "markdown",
      "source": "### Data Science Libraries\nSome of the commonly used ibraries used by Data Scientists include:\n\n-Pandas\n-NumPy\n-Matplotlib\n-Seaborn\n-Scikit-learn\n-TensorFlow\n-Keras\n-Pytorch",
      "metadata": {}
    },
    {
      "cell_type": "markdown",
      "source": "### Data Science Tools\n\n|Tool           |Description                                 |\n|---------------|--------------------------------------------|\n|Jupyter        |Interactive computing enviroment            |\n|RStudio        |IDE for R                                   |\n|Apache Hadoop  |Distributed storage and processing framework|\n|Apache Spark   |Data Processing engine                      |\n|TensorFlow     |Machine learning framework                  |\n|Tableau        |Data visualization tool                     |\n",
      "metadata": {}
    },
    {
      "cell_type": "markdown",
      "source": "### Arithmetic Expression Examples\nBelow are a few examples of evaluating arithmetic expression in Python",
      "metadata": {}
    },
    {
      "cell_type": "code",
      "source": "#This is a simple arithmetic expression to multiply then add integers\na=3\nb=4\nc=5\nresult=(a*b)+c\nresult",
      "metadata": {
        "trusted": true
      },
      "outputs": [
        {
          "execution_count": 7,
          "output_type": "execute_result",
          "data": {
            "text/plain": "17"
          },
          "metadata": {}
        }
      ],
      "execution_count": 7
    },
    {
      "cell_type": "code",
      "source": "#This will convert 200 minutes to hours by dividing by 60\nminutes=200\nhours=minutes/60\nhours",
      "metadata": {
        "trusted": true
      },
      "outputs": [
        {
          "execution_count": 8,
          "output_type": "execute_result",
          "data": {
            "text/plain": "3.3333333333333335"
          },
          "metadata": {}
        }
      ],
      "execution_count": 8
    },
    {
      "cell_type": "markdown",
      "source": "### Objectives\n-Understand basic data science launguages\n-Familiarize with common data science libraries\n-Learn about various data science tools\n-Perform simple artithmetic operations in Python",
      "metadata": {}
    },
    {
      "cell_type": "markdown",
      "source": "## Author\nTamieka Reid",
      "metadata": {}
    }
  ]
}